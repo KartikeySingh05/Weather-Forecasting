{
  "nbformat": 4,
  "nbformat_minor": 0,
  "metadata": {
    "colab": {
      "provenance": [],
      "authorship_tag": "ABX9TyO8I/nlh7wHzZRTvhincLd+"
    },
    "kernelspec": {
      "name": "python3",
      "display_name": "Python 3"
    },
    "language_info": {
      "name": "python"
    }
  },
  "cells": [
    {
      "cell_type": "code",
      "execution_count": null,
      "metadata": {
        "id": "LJRLyPpLxRf4"
      },
      "outputs": [],
      "source": [
        "import requests\n",
        "\n",
        "from datetime import datetime\n",
        "\n",
        "user_api=\"8fbf0a40943e95019942365e381808be\"\n",
        "\n",
        "location=input(\"Enter your city name : \")\n",
        "\n",
        "complete_api_link=\"https://api.openweathermap.org/data/2.5/weather?q=\"+location+\"&appid=\"+user_api\n",
        "\n",
        "api_link=requests.get(complete_api_link)\n",
        "\n",
        "api_data=api_link.json()\n",
        "\n",
        "#print(api_data)\n",
        "\n",
        "if api_data['cod']=='404':\n",
        "      print(\"Invalid city: {} , Please check your city name\".format(location))\n",
        "else:\n",
        "      temp_city=((api_data['main']['temp'])-273.15)\n",
        "      weather_desc=api_data['weather'][0]['description']\n",
        "      hmdt=api_data['main']['humidity']\n",
        "      wind_spd=api_data['wind']['speed']\n",
        "      date_time=datetime.now()\n",
        "      print(\"******************************************************************\")\n",
        "      print('Weather stats for- {}  ||  {}'.format(location.upper(),date_time))\n",
        "      print(\"******************************************************************\")\n",
        "      print(\"Current temperature is: {:.2f} deg C\".format(temp_city))\n",
        "      print(\"Current humidity is:\",hmdt,'%')\n",
        "      print(\"Current wind is: \",wind_spd,'kmph')\n",
        "      print(\"******************************************************************\")\n",
        "      print(\"------------------------------------------------------------------\")\n",
        "      print(\"------------------------------------------------------------------\")\n",
        "      print(\"------------------------------------------------------------------\")\n",
        "      print(\"******************************************************************\")\n",
        "\n",
        "print(location)\n",
        "\n",
        "print(\"Displaying city name for \"  + location)\n",
        "\n",
        "url='https://wttr.in/{}'.format(location)\n",
        "\n",
        "res=requests.get(url)\n",
        "\n",
        "print(res.text)\n"
      ]
    }
  ]
}